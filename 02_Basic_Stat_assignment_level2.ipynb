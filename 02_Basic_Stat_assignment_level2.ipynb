{
 "cells": [
  {
   "cell_type": "raw",
   "id": "6431c799",
   "metadata": {},
   "source": [
    "Background\n",
    "In quality control processes, especially when dealing with high-value items, destructive sampling is a necessary but costly method to ensure product quality. The test to determine whether an item meets the quality standards destroys the item, leading to the requirement of small sample sizes due to cost constraints.\n",
    "Scenario\n",
    "A manufacturer of print-heads for personal computers is interested in estimating the mean durability of their print-heads in terms of the number of characters printed before failure. To assess this, the manufacturer conducts a study on a small sample of print-heads due to the destructive nature of the testing process.\n",
    "Data\n",
    "A total of 15 print-heads were randomly selected and tested until failure. The durability of each print-head (in millions of characters) was recorded as follows:\n",
    "1.13, 1.55, 1.43, 0.92, 1.25, 1.36, 1.32, 0.85, 1.07, 1.48, 1.20, 1.33, 1.18, 1.22, 1.29\n",
    "Assignment Tasks\n",
    "a. Build 99% Confidence Interval Using Sample Standard Deviation\n",
    "Assuming the sample is representative of the population, construct a 99% confidence interval for the mean number of characters printed before the print-head fails using the sample standard deviation. Explain the steps you take and the rationale behind using the t-distribution for this task.\n",
    "b. Build 99% Confidence Interval Using Known Population Standard Deviation\n",
    "If it were known that the population standard deviation is 0.2 million characters, construct a 99% confidence interval for the mean number of characters printed before failure.\n"
   ]
  },
  {
   "cell_type": "markdown",
   "id": "eb69a8eb",
   "metadata": {},
   "source": [
    "### A. Building 99% Confidence Interval Using Sample Standard Deviation"
   ]
  },
  {
   "cell_type": "code",
   "execution_count": 12,
   "id": "baaddfed",
   "metadata": {},
   "outputs": [],
   "source": [
    "import numpy as np\n",
    "from scipy.stats import t\n",
    "import scipy.stats as stats\n"
   ]
  },
  {
   "cell_type": "code",
   "execution_count": 13,
   "id": "79cd8111",
   "metadata": {},
   "outputs": [],
   "source": [
    "data = [1.13, 1.55, 1.43, 0.92, 1.25, 1.36, 1.32, 0.85, 1.07, 1.48, 1.20, 1.33, 1.18, 1.22, 1.29]\n"
   ]
  },
  {
   "cell_type": "code",
   "execution_count": 14,
   "id": "fa2679ac",
   "metadata": {},
   "outputs": [],
   "source": [
    "n = len(data)\n",
    "x_bar = np.mean(data)\n",
    "sample_std = np.std(data, ddof=1)"
   ]
  },
  {
   "cell_type": "code",
   "execution_count": 15,
   "id": "4d040758",
   "metadata": {},
   "outputs": [],
   "source": [
    "alpha = 0.01\n",
    "dof = n-1"
   ]
  },
  {
   "cell_type": "code",
   "execution_count": 16,
   "id": "bc73001e",
   "metadata": {},
   "outputs": [],
   "source": [
    "t_critical = t.ppf(1-alpha/2,dof)\n",
    "upper_bound = x_bar + t_critical*(sample_std/np.sqrt(n))\n",
    "lower_bound = x_bar - t_critical*(sample_std/np.sqrt(n))"
   ]
  },
  {
   "cell_type": "code",
   "execution_count": 17,
   "id": "8686198f",
   "metadata": {},
   "outputs": [
    {
     "name": "stdout",
     "output_type": "stream",
     "text": [
      "99% CI: (1.0902, 1.3871)\n"
     ]
    }
   ],
   "source": [
    "print(f\"99% CI: ({lower_bound:.4f}, {upper_bound:.4f})\")"
   ]
  },
  {
   "cell_type": "markdown",
   "id": "f95d3e2a",
   "metadata": {},
   "source": [
    "### B. Building 99% Confidence Interval Using Population Standard Deviation"
   ]
  },
  {
   "cell_type": "code",
   "execution_count": 22,
   "id": "4a013315",
   "metadata": {},
   "outputs": [],
   "source": [
    "z_critical = 2.576\n",
    "pop_std = 0.2\n",
    "upper_bound = x_bar + z_critical*(pop_std/np.sqrt(n))\n",
    "lower_bound = x_bar - z_critical*(pop_std/np.sqrt(n))"
   ]
  },
  {
   "cell_type": "code",
   "execution_count": 24,
   "id": "6cf2065a",
   "metadata": {},
   "outputs": [
    {
     "name": "stdout",
     "output_type": "stream",
     "text": [
      "99% CI: (1.1056, 1.3717)\n"
     ]
    }
   ],
   "source": [
    "print(f\"99% CI: ({lower_bound:.4f}, {upper_bound:.4f})\")"
   ]
  },
  {
   "cell_type": "code",
   "execution_count": null,
   "id": "7587174b",
   "metadata": {},
   "outputs": [],
   "source": []
  }
 ],
 "metadata": {
  "kernelspec": {
   "display_name": "Python 3 (ipykernel)",
   "language": "python",
   "name": "python3"
  },
  "language_info": {
   "codemirror_mode": {
    "name": "ipython",
    "version": 3
   },
   "file_extension": ".py",
   "mimetype": "text/x-python",
   "name": "python",
   "nbconvert_exporter": "python",
   "pygments_lexer": "ipython3",
   "version": "3.11.5"
  }
 },
 "nbformat": 4,
 "nbformat_minor": 5
}
